{
 "cells": [
  {
   "cell_type": "code",
   "execution_count": 2,
   "metadata": {},
   "outputs": [
    {
     "name": "stdout",
     "output_type": "stream",
     "text": [
      "Times Table\n",
      "1 x 2 = 2\n",
      "2 x 2 = 4\n",
      "3 x 2 = 6\n",
      "4 x 2 = 8\n",
      "5 x 2 = 10\n",
      "6 x 2 = 12\n",
      "7 x 2 = 14\n",
      "8 x 2 = 16\n",
      "9 x 2 = 18\n",
      "10 x 2 = 20\n",
      "11 x 2 = 22\n",
      "12 x 2 = 24\n",
      "\n",
      "Division Table\n",
      "2 / 2 = 1\n",
      "4 / 2 = 2\n",
      "6 / 2 = 3\n",
      "8 / 2 = 4\n",
      "10 / 2 = 5\n",
      "12 / 2 = 6\n",
      "14 / 2 = 7\n",
      "16 / 2 = 8\n",
      "18 / 2 = 9\n",
      "20 / 2 = 10\n",
      "22 / 2 = 11\n",
      "24 / 2 = 12\n",
      "\n",
      "Ready\n",
      "1 x 2 = ______\n",
      "2 x 2 = ______\n",
      "3 x 2 = ______\n",
      "4 x 2 = ______\n",
      "5 x 2 = ______\n",
      "6 x 2 = ______\n",
      "7 x 2 = ______\n",
      "8 x 2 = ______\n",
      "9 x 2 = ______\n",
      "10 x 2 = ______\n",
      "11 x 2 = ______\n",
      "12 x 2 = ______\n",
      "Steady\n",
      "9 x 2 = ______\n",
      "1 x 2 = ______\n",
      "8 x 2 = ______\n",
      "2 x 2 = ______\n",
      "7 x 2 = ______\n",
      "5 x 2 = ______\n",
      "3 x 2 = ______\n",
      "10 x 2 = ______\n",
      "12 x 2 = ______\n",
      "11 x 2 = ______\n",
      "4 x 2 = ______\n",
      "6 x 2 = ______\n",
      "Go\n"
     ]
    }
   ],
   "source": [
    "import random\n",
    "tables = [2,3,4,5,6,7,8,9,10,11,12,25]\n",
    "\n",
    "number = 2\n",
    "print('Times Table')\n",
    "for i in range(1,13):\n",
    "    answer = i * number\n",
    "    print(f\"{i} x {number} = {result}\")\n",
    "print()\n",
    "\n",
    "print('Division Table')\n",
    "for i in range(1,13):\n",
    "    answer = i * number\n",
    "    print(f\"{answer} ÷ {number} = {i}\")  \n",
    "print()\n",
    "\n",
    "print('Ready')\n",
    "for i in range(1,13):\n",
    "    answer = i * number\n",
    "    print(f\"{i} x {number} = ______\")\n",
    "\n",
    "print('Steady')\n",
    "num_list = [i for i in range(1,13)]\n",
    "random.shuffle(num_list)\n",
    "for i in num_list:\n",
    "    answer = i * number\n",
    "    print(f\"{i} x {number} = ______\")\n"
   ]
  },
  {
   "attachments": {},
   "cell_type": "markdown",
   "metadata": {},
   "source": [
    "### Random Question List"
   ]
  },
  {
   "cell_type": "code",
   "execution_count": 3,
   "metadata": {},
   "outputs": [
    {
     "name": "stdout",
     "output_type": "stream",
     "text": [
      "Go\n",
      "24 ÷ 2 = ______\n",
      "2 ÷ 2 = ______\n",
      "14 ÷ 2 = ______\n",
      "22 ÷ 2 = ______\n",
      "6 ÷ 2 = ______\n",
      "12 ÷ 2 = ______\n",
      "4 ÷ 2 = ______\n",
      "18 ÷ 2 = ______\n",
      "16 ÷ 2 = ______\n",
      "20 ÷ 2 = ______\n",
      "8 ÷ 2 = ______\n",
      "10 ÷ 2 = ______\n"
     ]
    }
   ],
   "source": [
    "print('Go')\n",
    "num_list = [i for i in range(1,13)]\n",
    "random.shuffle(num_list)\n",
    "for i in num_list:\n",
    "    answer = i * number\n",
    "    print(f\"{answer} ÷ {number} = ______\")"
   ]
  },
  {
   "cell_type": "code",
   "execution_count": 1,
   "metadata": {},
   "outputs": [],
   "source": [
    "import random\n",
    "num_questions = 10\n",
    "min = 1\n",
    "max = 15\n",
    "\n",
    "def generate_random_maths_question(min,max):\n",
    "    operations = ['add', 'subtract', 'multiply', 'divide']   \n",
    "    a = random.randint(min,max)\n",
    "    b = random.randint(min,max)\n",
    "    operation = operations[random.randint(0, len(operations)-1)]\n",
    "\n",
    "    if  (operation == 'add'):\n",
    "        return f'{a} + {b} = {a + b}'\n",
    "    elif (operation == 'subtract'):\n",
    "        return f'{a} - {b} = {a - b}'\n",
    "    elif (operation == 'multiply'):\n",
    "        return f'{a} x {b} = {a * b}'\n",
    "    elif (operation == 'divide'):\n",
    "        return f'{a} ÷ {b} = {a / b:.2f}'\n",
    "\n",
    "for i in range(num_questions):\n",
    "    print(generate_random_maths_question(min, max))\n"
   ]
  }
 ],
 "metadata": {
  "kernelspec": {
   "display_name": "Python 3.10.6 64-bit",
   "language": "python",
   "name": "python3"
  },
  "language_info": {
   "codemirror_mode": {
    "name": "ipython",
    "version": 3
   },
   "file_extension": ".py",
   "mimetype": "text/x-python",
   "name": "python",
   "nbconvert_exporter": "python",
   "pygments_lexer": "ipython3",
   "version": "3.10.6"
  },
  "orig_nbformat": 4,
  "vscode": {
   "interpreter": {
    "hash": "916dbcbb3f70747c44a77c7bcd40155683ae19c65e1c03b4aa3499c5328201f1"
   }
  }
 },
 "nbformat": 4,
 "nbformat_minor": 2
}

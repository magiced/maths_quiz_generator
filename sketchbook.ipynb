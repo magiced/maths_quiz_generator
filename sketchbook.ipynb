{
 "cells": [
  {
   "cell_type": "code",
   "execution_count": 2,
   "metadata": {},
   "outputs": [
    {
     "name": "stdout",
     "output_type": "stream",
     "text": [
      "10 x 5 = _____\n",
      "3 x 5 = _____\n",
      "2 x 5 = _____\n",
      "7 x 5 = _____\n",
      "5 x 5 = _____\n",
      "9 x 5 = _____\n",
      "4 x 5 = _____\n",
      "12 x 5 = _____\n",
      "11 x 5 = _____\n",
      "8 x 5 = _____\n",
      "6 x 5 = _____\n",
      "1 x 5 = _____\n"
     ]
    }
   ],
   "source": [
    "import random\n",
    "\n",
    "number = 5\n"
   ]
  },
  {
   "cell_type": "code",
   "execution_count": null,
   "metadata": {},
   "outputs": [],
   "source": [
    "\n",
    "multiplications = [f\"{i} x {number} = _____\" for i in range(1,13)]\n",
    "random.shuffle(multiplications)\n",
    "for i in multiplications:\n",
    "    print(i)"
   ]
  },
  {
   "cell_type": "code",
   "execution_count": 4,
   "metadata": {},
   "outputs": [
    {
     "name": "stdout",
     "output_type": "stream",
     "text": [
      "5 + 5 = _____\n",
      "6 + 5 = _____\n",
      "4 + 5 = _____\n",
      "8 + 5 = _____\n",
      "3 + 5 = _____\n",
      "12 + 5 = _____\n",
      "2 + 5 = _____\n",
      "10 + 5 = _____\n",
      "11 + 5 = _____\n",
      "7 + 5 = _____\n",
      "1 + 5 = _____\n",
      "9 + 5 = _____\n"
     ]
    }
   ],
   "source": [
    "additions = [f\"{i} + {number} = _____\" for i in range(1,13)]\n",
    "random.shuffle(additions)\n",
    "for i in additions:\n",
    "    print(i)"
   ]
  },
  {
   "cell_type": "code",
   "execution_count": 7,
   "metadata": {},
   "outputs": [
    {
     "name": "stdout",
     "output_type": "stream",
     "text": [
      "5 ÷ 5 = ____\n",
      "15 ÷ 5 = ____\n",
      "25 ÷ 5 = ____\n",
      "50 ÷ 5 = ____\n",
      "30 ÷ 5 = ____\n",
      "60 ÷ 5 = ____\n",
      "45 ÷ 5 = ____\n",
      "10 ÷ 5 = ____\n",
      "40 ÷ 5 = ____\n",
      "20 ÷ 5 = ____\n",
      "55 ÷ 5 = ____\n",
      "35 ÷ 5 = ____\n"
     ]
    }
   ],
   "source": [
    "divisions = []\n",
    "\n",
    "for i in range(1,13):\n",
    "    answer = number * i\n",
    "    divisions.append(f'{answer} ÷ {number} = ____')\n",
    "\n",
    "random.shuffle(divisions)\n",
    "for i in divisions:\n",
    "    print(i)"
   ]
  },
  {
   "cell_type": "code",
   "execution_count": null,
   "metadata": {},
   "outputs": [],
   "source": [
    "    elif (operation == 'subtract'):\n",
    "        while True:\n",
    "            a,b = generate_random_a_b(number, min, max, increment)\n",
    "            \n",
    "            if (a >= b):\n",
    "                answer = a-b\n",
    "                if answer >= 0:\n",
    "                    return f'{a} - {b} = ____'# {answer}'\n",
    "                else:\n",
    "                    continue\n",
    "            else:\n",
    "                answer = b-a\n",
    "                if answer >= 0:\n",
    "                    return f'{b} - {a} = ____'# {answer}'\n",
    "                else:\n",
    "                    continue"
   ]
  }
 ],
 "metadata": {
  "kernelspec": {
   "display_name": "Python 3.8.10 64-bit",
   "language": "python",
   "name": "python3"
  },
  "language_info": {
   "codemirror_mode": {
    "name": "ipython",
    "version": 3
   },
   "file_extension": ".py",
   "mimetype": "text/x-python",
   "name": "python",
   "nbconvert_exporter": "python",
   "pygments_lexer": "ipython3",
   "version": "3.8.10"
  },
  "orig_nbformat": 4,
  "vscode": {
   "interpreter": {
    "hash": "78e90a727851e485d5f1ead1f88910482c4bc1fa05371e29f96c9ced0c7e162f"
   }
  }
 },
 "nbformat": 4,
 "nbformat_minor": 2
}

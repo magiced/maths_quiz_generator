{
 "cells": [
  {
   "cell_type": "code",
   "execution_count": 6,
   "metadata": {},
   "outputs": [
    {
     "name": "stdout",
     "output_type": "stream",
     "text": [
      "[1, 2, 3, 4]\n",
      "[5, 6, 7, 8]\n",
      "[9, 10, 11, 12]\n",
      "[13, 14, 15, 16]\n",
      "[17, 18, 19, 20]\n",
      "[21, 22, 23, 24]\n"
     ]
    }
   ],
   "source": []
  },
  {
   "cell_type": "code",
   "execution_count": 7,
   "metadata": {},
   "outputs": [],
   "source": [
    "# https://www.blog.pythonlibrary.org/2010/09/21/reportlab-tables-creating-tables-in-pdfs-with-python/\n",
    "\n",
    "from reportlab.lib import colors\n",
    "from reportlab.lib.pagesizes import A4, inch, mm\n",
    "from reportlab.platypus import SimpleDocTemplate, Table, TableStyle\n",
    "import random\n",
    "import numpy as np\n"
   ]
  },
  {
   "cell_type": "code",
   "execution_count": 21,
   "metadata": {},
   "outputs": [
    {
     "name": "stdout",
     "output_type": "stream",
     "text": [
      "[1, 2, 3, 4]\n",
      "[5, 6, 7, 8]\n",
      "[9, 10, 11, 12]\n",
      "[13, 14, 15, 16]\n",
      "[17, 18, 19, 20]\n",
      "[21, 22, 23, 24]\n",
      "[25, 26, 27, 28]\n",
      "[29, 30, 31, 32]\n",
      "[33, 34, 35, 36]\n",
      "[37, 38, 39, 40]\n",
      "[41, 42, 43, 44]\n",
      "[45, 46, 47, 48]\n",
      "[49, 50, 51, 52]\n",
      "[53, 54, 55, 56]\n",
      "[57, 58, 59, 60]\n",
      "inch:72.0\n"
     ]
    },
    {
     "data": {
      "text/plain": [
       "'\\n# https://stackoverflow.com/questions/53529173/how-to-draw-a-table-on-a-canvas-in-python-using-report-lab\\n# looks simple\\n\\nwidth = 400\\nheight = 100\\nx = 100\\ny = 800\\nf = Table(data)\\nf.wrapOn(p, width, height)\\nf.drawOn(p, x, y)\\n\\n'"
      ]
     },
     "execution_count": 21,
     "metadata": {},
     "output_type": "execute_result"
    }
   ],
   "source": [
    "\n",
    "from reportlab.pdfgen import canvas\n",
    "from reportlab.lib.pagesizes import A4\n",
    "width, height = A4\n",
    "\n",
    "doc = SimpleDocTemplate(f\"test.pdf\", pagesize=A4, topMargin=1, bottomMargin=1 )\n",
    "# container for the 'Flowable' objects\n",
    "elements = []\n",
    "\n",
    "# title_text = 'TITLE'\n",
    "# title = \n",
    "# elements.append(title)\n",
    "\n",
    "number = 0\n",
    "columns = 4\n",
    "rows = 15\n",
    "\n",
    "data = []\n",
    "row = []\n",
    "\n",
    "for r in range(rows):\n",
    "    for c in range(columns):\n",
    "        number += 1\n",
    "        row.append(number)\n",
    "    data.append(row)\n",
    "    row=[]\n",
    "\n",
    "for row in data:\n",
    "    print(row)\n",
    "\n",
    "t=Table(data,2*inch, 1*inch)\n",
    "print(f'inch:{inch}')\n",
    "\n",
    "t.setStyle(TableStyle([\n",
    "('FONTSIZE',(0,0),(-1,-1),18),\n",
    "('ALIGN',(0,0),(-1,-1),'CENTER'),\n",
    "('VALIGN',(0,0),(-1,-1),'MIDDLE'),\n",
    "('INNERGRID', (0,0), (-1,-1), 0.25, colors.black),\n",
    "('BOX', (0,0), (-1,-1), 0.25, colors.black),\n",
    "]))\n",
    "\n",
    "elements.append(t)\n",
    "# write the document to disk\n",
    "doc.build(elements)\n",
    "\n",
    "'''\n",
    "# https://stackoverflow.com/questions/53529173/how-to-draw-a-table-on-a-canvas-in-python-using-report-lab\n",
    "# looks simple\n",
    "\n",
    "width = 400\n",
    "height = 100\n",
    "x = 100\n",
    "y = 800\n",
    "f = Table(data)\n",
    "f.wrapOn(p, width, height)\n",
    "f.drawOn(p, x, y)\n",
    "\n",
    "'''"
   ]
  }
 ],
 "metadata": {
  "kernelspec": {
   "display_name": "Python 3.8.10 64-bit",
   "language": "python",
   "name": "python3"
  },
  "language_info": {
   "codemirror_mode": {
    "name": "ipython",
    "version": 3
   },
   "file_extension": ".py",
   "mimetype": "text/x-python",
   "name": "python",
   "nbconvert_exporter": "python",
   "pygments_lexer": "ipython3",
   "version": "3.8.10"
  },
  "orig_nbformat": 4,
  "vscode": {
   "interpreter": {
    "hash": "78e90a727851e485d5f1ead1f88910482c4bc1fa05371e29f96c9ced0c7e162f"
   }
  }
 },
 "nbformat": 4,
 "nbformat_minor": 2
}

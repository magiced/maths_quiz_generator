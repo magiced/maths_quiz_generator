{
 "cells": [
  {
   "cell_type": "code",
   "execution_count": 2,
   "metadata": {},
   "outputs": [],
   "source": [
    "from reportlab.lib.styles import getSampleStyleSheet\n",
    "\n",
    "styles = getSampleStyleSheet()\n"
   ]
  },
  {
   "cell_type": "code",
   "execution_count": 6,
   "metadata": {},
   "outputs": [
    {
     "ename": "KeyError",
     "evalue": "\"Style '0' not found in stylesheet\"",
     "output_type": "error",
     "traceback": [
      "\u001b[1;31m---------------------------------------------------------------------------\u001b[0m",
      "\u001b[1;31mKeyError\u001b[0m                                  Traceback (most recent call last)",
      "File \u001b[1;32mc:\\Users\\ed.bisdee\\AppData\\Local\\Programs\\Python\\Python38\\lib\\site-packages\\reportlab\\lib\\styles.py:219\u001b[0m, in \u001b[0;36mStyleSheet1.__getitem__\u001b[1;34m(self, key)\u001b[0m\n\u001b[0;32m    218\u001b[0m \u001b[39mtry\u001b[39;00m:\n\u001b[1;32m--> 219\u001b[0m     \u001b[39mreturn\u001b[39;00m \u001b[39mself\u001b[39;49m\u001b[39m.\u001b[39;49mbyAlias[key]\n\u001b[0;32m    220\u001b[0m \u001b[39mexcept\u001b[39;00m \u001b[39mKeyError\u001b[39;00m:\n",
      "\u001b[1;31mKeyError\u001b[0m: 0",
      "\nDuring handling of the above exception, another exception occurred:\n",
      "\u001b[1;31mKeyError\u001b[0m                                  Traceback (most recent call last)",
      "File \u001b[1;32mc:\\Users\\ed.bisdee\\AppData\\Local\\Programs\\Python\\Python38\\lib\\site-packages\\reportlab\\lib\\styles.py:222\u001b[0m, in \u001b[0;36mStyleSheet1.__getitem__\u001b[1;34m(self, key)\u001b[0m\n\u001b[0;32m    221\u001b[0m \u001b[39mtry\u001b[39;00m:\n\u001b[1;32m--> 222\u001b[0m     \u001b[39mreturn\u001b[39;00m \u001b[39mself\u001b[39;49m\u001b[39m.\u001b[39;49mbyName[key]\n\u001b[0;32m    223\u001b[0m \u001b[39mexcept\u001b[39;00m \u001b[39mKeyError\u001b[39;00m:\n",
      "\u001b[1;31mKeyError\u001b[0m: 0",
      "\nDuring handling of the above exception, another exception occurred:\n",
      "\u001b[1;31mKeyError\u001b[0m                                  Traceback (most recent call last)",
      "\u001b[1;32mUntitled-1.ipynb Cell 2\u001b[0m in \u001b[0;36m<cell line: 1>\u001b[1;34m()\u001b[0m\n\u001b[1;32m----> <a href='vscode-notebook-cell:Untitled-1.ipynb?jupyter-notebook#W1sdW50aXRsZWQ%3D?line=0'>1</a>\u001b[0m \u001b[39mfor\u001b[39;00m style \u001b[39min\u001b[39;00m styles:\n\u001b[0;32m      <a href='vscode-notebook-cell:Untitled-1.ipynb?jupyter-notebook#W1sdW50aXRsZWQ%3D?line=1'>2</a>\u001b[0m     \u001b[39mprint\u001b[39m(\u001b[39mtype\u001b[39m(style))\n",
      "File \u001b[1;32mc:\\Users\\ed.bisdee\\AppData\\Local\\Programs\\Python\\Python38\\lib\\site-packages\\reportlab\\lib\\styles.py:224\u001b[0m, in \u001b[0;36mStyleSheet1.__getitem__\u001b[1;34m(self, key)\u001b[0m\n\u001b[0;32m    222\u001b[0m     \u001b[39mreturn\u001b[39;00m \u001b[39mself\u001b[39m\u001b[39m.\u001b[39mbyName[key]\n\u001b[0;32m    223\u001b[0m \u001b[39mexcept\u001b[39;00m \u001b[39mKeyError\u001b[39;00m:\n\u001b[1;32m--> 224\u001b[0m     \u001b[39mraise\u001b[39;00m \u001b[39mKeyError\u001b[39;00m(\u001b[39m\"\u001b[39m\u001b[39mStyle \u001b[39m\u001b[39m'\u001b[39m\u001b[39m%s\u001b[39;00m\u001b[39m'\u001b[39m\u001b[39m not found in stylesheet\u001b[39m\u001b[39m\"\u001b[39m \u001b[39m%\u001b[39m key)\n",
      "\u001b[1;31mKeyError\u001b[0m: \"Style '0' not found in stylesheet\""
     ]
    }
   ],
   "source": [
    "for style in styles:\n",
    "    print(type(style))"
   ]
  }
 ],
 "metadata": {
  "kernelspec": {
   "display_name": "Python 3.8.10 64-bit",
   "language": "python",
   "name": "python3"
  },
  "language_info": {
   "codemirror_mode": {
    "name": "ipython",
    "version": 3
   },
   "file_extension": ".py",
   "mimetype": "text/x-python",
   "name": "python",
   "nbconvert_exporter": "python",
   "pygments_lexer": "ipython3",
   "version": "3.8.10"
  },
  "orig_nbformat": 4,
  "vscode": {
   "interpreter": {
    "hash": "78e90a727851e485d5f1ead1f88910482c4bc1fa05371e29f96c9ced0c7e162f"
   }
  }
 },
 "nbformat": 4,
 "nbformat_minor": 2
}
